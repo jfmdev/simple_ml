{
 "cells": [
  {
   "cell_type": "markdown",
   "metadata": {},
   "source": [
    "# Santa Workshop Tour competition"
   ]
  },
  {
   "cell_type": "markdown",
   "metadata": {},
   "source": [
    "This notebook builds tailormade models to organize a tour schedule, based on data provided on the [Santa's Workshop Tour 2019 competition](https://www.kaggle.com/c/santa-workshop-tour-2019/)."
   ]
  },
  {
   "cell_type": "code",
   "execution_count": 99,
   "metadata": {},
   "outputs": [
    {
     "data": {
      "text/plain": [
       "'en_US'"
      ]
     },
     "execution_count": 99,
     "metadata": {},
     "output_type": "execute_result"
    }
   ],
   "source": [
    "# Load dependencies.\n",
    "import numpy as np\n",
    "import pandas as pd\n",
    "\n",
    "pd.plotting.register_matplotlib_converters()\n",
    "import matplotlib.pyplot as plt\n",
    "import seaborn as sns\n",
    "\n",
    "import locale\n",
    "locale.setlocale(locale.LC_ALL, 'en_US')"
   ]
  },
  {
   "cell_type": "markdown",
   "metadata": {},
   "source": [
    "## 1. Load data"
   ]
  },
  {
   "cell_type": "code",
   "execution_count": 77,
   "metadata": {},
   "outputs": [
    {
     "data": {
      "text/html": [
       "<div>\n",
       "<style scoped>\n",
       "    .dataframe tbody tr th:only-of-type {\n",
       "        vertical-align: middle;\n",
       "    }\n",
       "\n",
       "    .dataframe tbody tr th {\n",
       "        vertical-align: top;\n",
       "    }\n",
       "\n",
       "    .dataframe thead th {\n",
       "        text-align: right;\n",
       "    }\n",
       "</style>\n",
       "<table border=\"1\" class=\"dataframe\">\n",
       "  <thead>\n",
       "    <tr style=\"text-align: right;\">\n",
       "      <th></th>\n",
       "      <th>family_id</th>\n",
       "      <th>choice_0</th>\n",
       "      <th>choice_1</th>\n",
       "      <th>choice_2</th>\n",
       "      <th>choice_3</th>\n",
       "      <th>choice_4</th>\n",
       "      <th>choice_5</th>\n",
       "      <th>choice_6</th>\n",
       "      <th>choice_7</th>\n",
       "      <th>choice_8</th>\n",
       "      <th>choice_9</th>\n",
       "      <th>n_people</th>\n",
       "    </tr>\n",
       "  </thead>\n",
       "  <tbody>\n",
       "    <tr>\n",
       "      <th>0</th>\n",
       "      <td>0</td>\n",
       "      <td>52</td>\n",
       "      <td>38</td>\n",
       "      <td>12</td>\n",
       "      <td>82</td>\n",
       "      <td>33</td>\n",
       "      <td>75</td>\n",
       "      <td>64</td>\n",
       "      <td>76</td>\n",
       "      <td>10</td>\n",
       "      <td>28</td>\n",
       "      <td>4</td>\n",
       "    </tr>\n",
       "    <tr>\n",
       "      <th>1</th>\n",
       "      <td>1</td>\n",
       "      <td>26</td>\n",
       "      <td>4</td>\n",
       "      <td>82</td>\n",
       "      <td>5</td>\n",
       "      <td>11</td>\n",
       "      <td>47</td>\n",
       "      <td>38</td>\n",
       "      <td>6</td>\n",
       "      <td>66</td>\n",
       "      <td>61</td>\n",
       "      <td>4</td>\n",
       "    </tr>\n",
       "    <tr>\n",
       "      <th>2</th>\n",
       "      <td>2</td>\n",
       "      <td>100</td>\n",
       "      <td>54</td>\n",
       "      <td>25</td>\n",
       "      <td>12</td>\n",
       "      <td>27</td>\n",
       "      <td>82</td>\n",
       "      <td>10</td>\n",
       "      <td>89</td>\n",
       "      <td>80</td>\n",
       "      <td>33</td>\n",
       "      <td>3</td>\n",
       "    </tr>\n",
       "    <tr>\n",
       "      <th>3</th>\n",
       "      <td>3</td>\n",
       "      <td>2</td>\n",
       "      <td>95</td>\n",
       "      <td>1</td>\n",
       "      <td>96</td>\n",
       "      <td>32</td>\n",
       "      <td>6</td>\n",
       "      <td>40</td>\n",
       "      <td>31</td>\n",
       "      <td>9</td>\n",
       "      <td>59</td>\n",
       "      <td>2</td>\n",
       "    </tr>\n",
       "    <tr>\n",
       "      <th>4</th>\n",
       "      <td>4</td>\n",
       "      <td>53</td>\n",
       "      <td>1</td>\n",
       "      <td>47</td>\n",
       "      <td>93</td>\n",
       "      <td>26</td>\n",
       "      <td>3</td>\n",
       "      <td>46</td>\n",
       "      <td>16</td>\n",
       "      <td>42</td>\n",
       "      <td>39</td>\n",
       "      <td>4</td>\n",
       "    </tr>\n",
       "    <tr>\n",
       "      <th>5</th>\n",
       "      <td>5</td>\n",
       "      <td>32</td>\n",
       "      <td>59</td>\n",
       "      <td>12</td>\n",
       "      <td>3</td>\n",
       "      <td>60</td>\n",
       "      <td>26</td>\n",
       "      <td>35</td>\n",
       "      <td>50</td>\n",
       "      <td>5</td>\n",
       "      <td>2</td>\n",
       "      <td>4</td>\n",
       "    </tr>\n",
       "    <tr>\n",
       "      <th>6</th>\n",
       "      <td>6</td>\n",
       "      <td>88</td>\n",
       "      <td>4</td>\n",
       "      <td>1</td>\n",
       "      <td>3</td>\n",
       "      <td>91</td>\n",
       "      <td>32</td>\n",
       "      <td>39</td>\n",
       "      <td>57</td>\n",
       "      <td>28</td>\n",
       "      <td>99</td>\n",
       "      <td>2</td>\n",
       "    </tr>\n",
       "    <tr>\n",
       "      <th>7</th>\n",
       "      <td>7</td>\n",
       "      <td>25</td>\n",
       "      <td>11</td>\n",
       "      <td>52</td>\n",
       "      <td>48</td>\n",
       "      <td>10</td>\n",
       "      <td>17</td>\n",
       "      <td>88</td>\n",
       "      <td>50</td>\n",
       "      <td>95</td>\n",
       "      <td>66</td>\n",
       "      <td>5</td>\n",
       "    </tr>\n",
       "  </tbody>\n",
       "</table>\n",
       "</div>"
      ],
      "text/plain": [
       "   family_id  choice_0  choice_1  choice_2  choice_3  choice_4  choice_5  \\\n",
       "0          0        52        38        12        82        33        75   \n",
       "1          1        26         4        82         5        11        47   \n",
       "2          2       100        54        25        12        27        82   \n",
       "3          3         2        95         1        96        32         6   \n",
       "4          4        53         1        47        93        26         3   \n",
       "5          5        32        59        12         3        60        26   \n",
       "6          6        88         4         1         3        91        32   \n",
       "7          7        25        11        52        48        10        17   \n",
       "\n",
       "   choice_6  choice_7  choice_8  choice_9  n_people  \n",
       "0        64        76        10        28         4  \n",
       "1        38         6        66        61         4  \n",
       "2        10        89        80        33         3  \n",
       "3        40        31         9        59         2  \n",
       "4        46        16        42        39         4  \n",
       "5        35        50         5         2         4  \n",
       "6        39        57        28        99         2  \n",
       "7        88        50        95        66         5  "
      ]
     },
     "execution_count": 77,
     "metadata": {},
     "output_type": "execute_result"
    }
   ],
   "source": [
    "# Load train and test data.\n",
    "data = pd.read_csv('./data/family_data.csv', sep=',')\n",
    "sample_submission = pd.read_csv('./data/sample_submission.csv', sep=',')\n",
    "\n",
    "# Take a quick look into the data.\n",
    "data.head(8)"
   ]
  },
  {
   "cell_type": "markdown",
   "metadata": {},
   "source": [
    "## 2. Explore data"
   ]
  },
  {
   "cell_type": "code",
   "execution_count": 78,
   "metadata": {},
   "outputs": [
    {
     "name": "stdout",
     "output_type": "stream",
     "text": [
      "Total number of families: 5000\n",
      "Total number of visitors: 21003\n",
      "Average people per family: 4.2006\n",
      "Average families per day: 50.0\n",
      "Average people per day: 210.03\n"
     ]
    }
   ],
   "source": [
    "# General stats.\n",
    "print(\"Total number of families:\", len(data))\n",
    "print(\"Total number of visitors:\", data['n_people'].sum())\n",
    "print(\"Average people per family:\", data['n_people'].sum()/len(data))\n",
    "print(\"Average families per day:\", len(data)/100)\n",
    "print(\"Average people per day:\", data['n_people'].sum()/100)"
   ]
  },
  {
   "cell_type": "code",
   "execution_count": 79,
   "metadata": {},
   "outputs": [
    {
     "data": {
      "text/plain": [
       "<matplotlib.axes._subplots.AxesSubplot at 0x1b3e42b1e20>"
      ]
     },
     "execution_count": 79,
     "metadata": {},
     "output_type": "execute_result"
    },
    {
     "data": {
      "image/png": "[encoded data removed]",
      "text/plain": [
       "<Figure size 1152x288 with 1 Axes>"
      ]
     },
     "metadata": {
      "needs_background": "light"
     },
     "output_type": "display_data"
    },
    {
     "data": {
      "image/png": "[encoded data removed]",
      "text/plain": [
       "<Figure size 1152x288 with 1 Axes>"
      ]
     },
     "metadata": {
      "needs_background": "light"
     },
     "output_type": "display_data"
    }
   ],
   "source": [
    "# Check occurrences for the first choice.\n",
    "occurrences = data['choice_0'].value_counts().sort_index()\n",
    "\n",
    "plt.figure(figsize=(16,4))\n",
    "plt.title(\"First choice | Nearest days\")\n",
    "sns.barplot(x=occurrences[0:50].index, y=occurrences[0:50].values)\n",
    "\n",
    "plt.figure(figsize=(16,4))\n",
    "plt.title(\"First choice | Farthest days\")\n",
    "sns.barplot(x=occurrences[50:100].index, y=occurrences[50:100].values)"
   ]
  },
  {
   "cell_type": "code",
   "execution_count": 80,
   "metadata": {},
   "outputs": [
    {
     "data": {
      "text/plain": [
       "<matplotlib.axes._subplots.AxesSubplot at 0x1b3e3fd47f0>"
      ]
     },
     "execution_count": 80,
     "metadata": {},
     "output_type": "execute_result"
    },
    {
     "data": {
      "image/png": "[encoded data removed]",
      "text/plain": [
       "<Figure size 1152x288 with 1 Axes>"
      ]
     },
     "metadata": {
      "needs_background": "light"
     },
     "output_type": "display_data"
    },
    {
     "data": {
      "image/png": "[encoded data removed]",
      "text/plain": [
       "<Figure size 1152x288 with 1 Axes>"
      ]
     },
     "metadata": {
      "needs_background": "light"
     },
     "output_type": "display_data"
    }
   ],
   "source": [
    "# Check occurrences for the second choice.\n",
    "occurrences = data['choice_1'].value_counts().sort_index()\n",
    "\n",
    "plt.figure(figsize=(16,4))\n",
    "plt.title(\"Second choice | Nearest days\")\n",
    "sns.barplot(x=occurrences[0:50].index, y=occurrences[0:50].values)\n",
    "\n",
    "plt.figure(figsize=(16,4))\n",
    "plt.title(\"Second choice | Farthest days\")\n",
    "sns.barplot(x=occurrences[50:100].index, y=occurrences[50:100].values)"
   ]
  },
  {
   "cell_type": "markdown",
   "metadata": {},
   "source": [
    "## 3. Build models"
   ]
  },
  {
   "cell_type": "code",
   "execution_count": 119,
   "metadata": {},
   "outputs": [
    {
     "name": "stdout",
     "output_type": "stream",
     "text": [
      "Sample submission: 10,641,498\n"
     ]
    }
   ],
   "source": [
    "# Define constants.\n",
    "COLUMNS = [f'choice_{i}' for i in range(10)]\n",
    "\n",
    "N_DAYS = 100\n",
    "MAX_OCCUPANCY = 300\n",
    "MIN_OCCUPANCY = 125\n",
    "\n",
    "DAYS_LIST = list(range(N_DAYS, 0, -1)) # From 100 to 1\n",
    "\n",
    "GIFT_CARD = [0, 50, 50, 100, 200, 200, 300, 300, 400, 500, 500]\n",
    "BUFFET = [0, 0, 9, 9, 9, 18, 18, 36, 36, 36, 36]\n",
    "HELICOPTER = [0, 0, 0, 0, 0, 0, 0, 0, 0, 199, 398]\n",
    "\n",
    "# Define auxiliary dictionaries and functions.\n",
    "family_size_dict = data[['n_people']].to_dict()['n_people']\n",
    "choice_dict = data[COLUMNS].to_dict()\n",
    "\n",
    "def calc_daily_occupancy(prediction):\n",
    "    daily_occupancy = {k:0 for k in DAYS_LIST}\n",
    "    \n",
    "    for family_index, assigned_day in enumerate(prediction):\n",
    "        family_people = family_size_dict[family_index]\n",
    "        daily_occupancy[assigned_day] += family_people\n",
    "        \n",
    "    return daily_occupancy\n",
    "    \n",
    "# Define cost formulas.\n",
    "def calc_preference_cost(choice, family_members):\n",
    "    cost = 0\n",
    "    cost += GIFT_CARD[choice]\n",
    "    cost += BUFFET[choice] * family_members\n",
    "    cost += HELICOPTER[choice] * family_members\n",
    "    return cost\n",
    "\n",
    "def calc_accounting_cost(daily_occupancy):\n",
    "    # The first day (day 100) is treated special.\n",
    "    accounting_cost = (daily_occupancy[DAYS_LIST[0]]-125.0) / 400.0 * daily_occupancy[DAYS_LIST[0]]**(0.5)\n",
    "    \n",
    "    # Use the max function because the soft constraints might allow occupancy to dip below 125.\n",
    "    accounting_cost = max(0, accounting_cost)\n",
    "    \n",
    "    # Loop over the rest of the days, keeping track of previous count.\n",
    "    yesterday_count = daily_occupancy[DAYS_LIST[0]]\n",
    "    for day in DAYS_LIST[1:]:\n",
    "        today_count = daily_occupancy[day]\n",
    "        diff = abs(today_count - yesterday_count)\n",
    "        accounting_cost += max(0, (daily_occupancy[day]-125.0) / 400.0 * daily_occupancy[day]**(0.5 + diff / 50.0))\n",
    "        yesterday_count = today_count\n",
    "\n",
    "    return accounting_cost\n",
    "    \n",
    "def calc_score(prediction):\n",
    "    penalty = 0;\n",
    "                 \n",
    "    # Define an array to count the number of people scheduled each day.\n",
    "    daily_occupancy = {k:0 for k in DAYS_LIST}\n",
    "    \n",
    "    # Loop over each family.\n",
    "    for family_index, assigned_day in enumerate(prediction):\n",
    "        # Add the family member count to the daily occupancy.\n",
    "        family_people = family_size_dict[family_index]\n",
    "        daily_occupancy[assigned_day] += family_people\n",
    "\n",
    "        # Check which choice was selected.\n",
    "        choice = 10\n",
    "        for index, column in enumerate(COLUMNS):\n",
    "            if assigned_day == choice_dict[column][family_index]:\n",
    "                 choice = index\n",
    "                 \n",
    "        # Calculate the penalty for not getting top preference\n",
    "        penalty += calc_preference_cost(choice, family_people)\n",
    "\n",
    "    # For each date, check total occupancy (using soft constraints instead of hard ones).\n",
    "    for _, occuppancy in daily_occupancy.items():\n",
    "        if (occuppancy > MAX_OCCUPANCY) or (occuppancy < MIN_OCCUPANCY):\n",
    "            penalty += 100000000\n",
    "\n",
    "    # Calculate the accounting cost.\n",
    "    penalty += calc_accounting_cost(daily_occupancy)\n",
    "\n",
    "    return penalty\n",
    "\n",
    "# Check score of sample submission.\n",
    "sample_pred = sample_submission['assigned_day'].tolist()\n",
    "sample_score = calc_score(sample_pred)\n",
    "print(\"Sample submission:\", locale.format_string(\"%d\", sample_score, grouping=True))"
   ]
  },
  {
   "cell_type": "markdown",
   "metadata": {},
   "source": [
    "### 3.1 Improve sample submission"
   ]
  },
  {
   "cell_type": "code",
   "execution_count": 131,
   "metadata": {},
   "outputs": [
    {
     "name": "stdout",
     "output_type": "stream",
     "text": [
      "Sample submission improved: 5,023,409\n"
     ]
    }
   ],
   "source": [
    "# Start with the sample submission values.\n",
    "improved_sample_pred = sample_pred.copy()\n",
    "\n",
    "# Calculate daily occupancy.\n",
    "daily_occupancy = calc_daily_occupancy(improved_sample_pred)\n",
    "accounting_cost = calc_accounting_cost(daily_occupancy)\n",
    "\n",
    "# Iterate over each family.\n",
    "for family_index, assigned_day in enumerate(improved_sample_pred): \n",
    "    family_people = family_size_dict[family_index]\n",
    "    \n",
    "    # Check which choice was selected and calculate current preference cost.\n",
    "    assigned_choice = 10\n",
    "    for index, column in enumerate(COLUMNS):\n",
    "        if assigned_day == choice_dict[column][family_index]:\n",
    "             assigned_choice = index\n",
    "    preference_cost = calc_preference_cost(assigned_choice, family_people)\n",
    "    \n",
    "    # Iterate over choices to check if the family can be relocated.\n",
    "    for new_choice in range(10):\n",
    "        new_day = choice_dict[f'choice_{pick}'][family_index]\n",
    "\n",
    "        # Check if current day won't get too unocuppied and if new day won't get too crowded.\n",
    "        can_move_out = (daily_occupancy[assigned_day] - family_people) > MIN_OCCUPANCY\n",
    "        can_move_in = (daily_occupancy[new_day] + family_people) < MAX_OCCUPANCY\n",
    "        \n",
    "        if new_choice != assigned_choice and can_move_out and can_move_in:            \n",
    "            # Check if the overall cost would be decreased.\n",
    "            new_preference_cost = calc_preference_cost(choice, family_people)\n",
    "\n",
    "            new_occupancy = daily_occupancy.copy()\n",
    "            new_occupancy[assigned_day] -= family_people\n",
    "            new_occupancy[new_day] += family_people\n",
    "            new_accounting_cost = calc_accounting_cost(new_occupancy)\n",
    "\n",
    "            if (new_preference_cost + new_accounting_cost) < (preference_cost + accounting_cost):\n",
    "                # Update prediction, occupancy and costs.\n",
    "                improved_sample_pred[family_index] = new_day\n",
    "                daily_occupancy = new_occupancy\n",
    "                \n",
    "                # Exit loop and continue with next family.\n",
    "                break\n",
    "\n",
    "print(\"Sample submission improved:\", locale.format_string(\"%d\", improved_sample_score, grouping=True))"
   ]
  },
  {
   "cell_type": "markdown",
   "metadata": {},
   "source": [
    "## 4. Make predictions"
   ]
  },
  {
   "cell_type": "code",
   "execution_count": 130,
   "metadata": {},
   "outputs": [
    {
     "name": "stdout",
     "output_type": "stream",
     "text": [
      "The submission was successfully saved!\n"
     ]
    }
   ],
   "source": [
    "# Generate the submission file (to be uploaded to Kaggle).\n",
    "output = pd.DataFrame({'family_id': sample_submission['family_id'], 'assigned_day': improved_sample_pred})\n",
    "output.to_csv('my_submission.csv', index=False)\n",
    "print(\"The submission was successfully saved!\")"
   ]
  },
  {
   "cell_type": "code",
   "execution_count": null,
   "metadata": {},
   "outputs": [],
   "source": []
  }
 ],
 "metadata": {
  "kernelspec": {
   "display_name": "Python 3",
   "language": "python",
   "name": "python3"
  },
  "language_info": {
   "codemirror_mode": {
    "name": "ipython",
    "version": 3
   },
   "file_extension": ".py",
   "mimetype": "text/x-python",
   "name": "python",
   "nbconvert_exporter": "python",
   "pygments_lexer": "ipython3",
   "version": "3.8.3"
  }
 },
 "nbformat": 4,
 "nbformat_minor": 4
}
