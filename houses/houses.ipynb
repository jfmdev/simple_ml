{
 "cells": [
  {
   "cell_type": "markdown",
   "metadata": {},
   "source": [
    "# Houses prices competition"
   ]
  },
  {
   "cell_type": "markdown",
   "metadata": {},
   "source": [
    "This notebook builds a predictive model for predict the sales price of houses, based on data provided on the [House Prices: Advanced Regression Techniques competition](https://www.kaggle.com/c/house-prices-advanced-regression-techniques/overview)."
   ]
  },
  {
   "cell_type": "code",
   "execution_count": 287,
   "metadata": {},
   "outputs": [],
   "source": [
    "# Load dependencies.\n",
    "import numpy as np\n",
    "import pandas as pd\n",
    "\n",
    "pd.plotting.register_matplotlib_converters()\n",
    "import matplotlib.pyplot as plt\n",
    "import seaborn as sns\n",
    "\n",
    "from sklearn.metrics import accuracy_score\n",
    "from sklearn.model_selection import train_test_split\n",
    "from sklearn.linear_model import LinearRegression\n",
    "from sklearn.linear_model import RidgeCV\n",
    "\n",
    "import scipy.stats as ss"
   ]
  },
  {
   "cell_type": "markdown",
   "metadata": {},
   "source": [
    "## 1. Load and clean data"
   ]
  },
  {
   "cell_type": "code",
   "execution_count": 288,
   "metadata": {},
   "outputs": [
    {
     "data": {
      "text/html": [
       "<div>\n",
       "<style scoped>\n",
       "    .dataframe tbody tr th:only-of-type {\n",
       "        vertical-align: middle;\n",
       "    }\n",
       "\n",
       "    .dataframe tbody tr th {\n",
       "        vertical-align: top;\n",
       "    }\n",
       "\n",
       "    .dataframe thead th {\n",
       "        text-align: right;\n",
       "    }\n",
       "</style>\n",
       "<table border=\"1\" class=\"dataframe\">\n",
       "  <thead>\n",
       "    <tr style=\"text-align: right;\">\n",
       "      <th></th>\n",
       "      <th>Id</th>\n",
       "      <th>MSSubClass</th>\n",
       "      <th>MSZoning</th>\n",
       "      <th>LotFrontage</th>\n",
       "      <th>LotArea</th>\n",
       "      <th>Street</th>\n",
       "      <th>Alley</th>\n",
       "      <th>LotShape</th>\n",
       "      <th>LandContour</th>\n",
       "      <th>Utilities</th>\n",
       "      <th>...</th>\n",
       "      <th>PoolArea</th>\n",
       "      <th>PoolQC</th>\n",
       "      <th>Fence</th>\n",
       "      <th>MiscFeature</th>\n",
       "      <th>MiscVal</th>\n",
       "      <th>MoSold</th>\n",
       "      <th>YrSold</th>\n",
       "      <th>SaleType</th>\n",
       "      <th>SaleCondition</th>\n",
       "      <th>SalePrice</th>\n",
       "    </tr>\n",
       "  </thead>\n",
       "  <tbody>\n",
       "    <tr>\n",
       "      <th>0</th>\n",
       "      <td>1</td>\n",
       "      <td>60</td>\n",
       "      <td>RL</td>\n",
       "      <td>65.0</td>\n",
       "      <td>8450</td>\n",
       "      <td>Pave</td>\n",
       "      <td>NaN</td>\n",
       "      <td>Reg</td>\n",
       "      <td>Lvl</td>\n",
       "      <td>AllPub</td>\n",
       "      <td>...</td>\n",
       "      <td>0</td>\n",
       "      <td>NaN</td>\n",
       "      <td>NaN</td>\n",
       "      <td>NaN</td>\n",
       "      <td>0</td>\n",
       "      <td>2</td>\n",
       "      <td>2008</td>\n",
       "      <td>WD</td>\n",
       "      <td>Normal</td>\n",
       "      <td>208500</td>\n",
       "    </tr>\n",
       "    <tr>\n",
       "      <th>1</th>\n",
       "      <td>2</td>\n",
       "      <td>20</td>\n",
       "      <td>RL</td>\n",
       "      <td>80.0</td>\n",
       "      <td>9600</td>\n",
       "      <td>Pave</td>\n",
       "      <td>NaN</td>\n",
       "      <td>Reg</td>\n",
       "      <td>Lvl</td>\n",
       "      <td>AllPub</td>\n",
       "      <td>...</td>\n",
       "      <td>0</td>\n",
       "      <td>NaN</td>\n",
       "      <td>NaN</td>\n",
       "      <td>NaN</td>\n",
       "      <td>0</td>\n",
       "      <td>5</td>\n",
       "      <td>2007</td>\n",
       "      <td>WD</td>\n",
       "      <td>Normal</td>\n",
       "      <td>181500</td>\n",
       "    </tr>\n",
       "    <tr>\n",
       "      <th>2</th>\n",
       "      <td>3</td>\n",
       "      <td>60</td>\n",
       "      <td>RL</td>\n",
       "      <td>68.0</td>\n",
       "      <td>11250</td>\n",
       "      <td>Pave</td>\n",
       "      <td>NaN</td>\n",
       "      <td>IR1</td>\n",
       "      <td>Lvl</td>\n",
       "      <td>AllPub</td>\n",
       "      <td>...</td>\n",
       "      <td>0</td>\n",
       "      <td>NaN</td>\n",
       "      <td>NaN</td>\n",
       "      <td>NaN</td>\n",
       "      <td>0</td>\n",
       "      <td>9</td>\n",
       "      <td>2008</td>\n",
       "      <td>WD</td>\n",
       "      <td>Normal</td>\n",
       "      <td>223500</td>\n",
       "    </tr>\n",
       "    <tr>\n",
       "      <th>3</th>\n",
       "      <td>4</td>\n",
       "      <td>70</td>\n",
       "      <td>RL</td>\n",
       "      <td>60.0</td>\n",
       "      <td>9550</td>\n",
       "      <td>Pave</td>\n",
       "      <td>NaN</td>\n",
       "      <td>IR1</td>\n",
       "      <td>Lvl</td>\n",
       "      <td>AllPub</td>\n",
       "      <td>...</td>\n",
       "      <td>0</td>\n",
       "      <td>NaN</td>\n",
       "      <td>NaN</td>\n",
       "      <td>NaN</td>\n",
       "      <td>0</td>\n",
       "      <td>2</td>\n",
       "      <td>2006</td>\n",
       "      <td>WD</td>\n",
       "      <td>Abnorml</td>\n",
       "      <td>140000</td>\n",
       "    </tr>\n",
       "    <tr>\n",
       "      <th>4</th>\n",
       "      <td>5</td>\n",
       "      <td>60</td>\n",
       "      <td>RL</td>\n",
       "      <td>84.0</td>\n",
       "      <td>14260</td>\n",
       "      <td>Pave</td>\n",
       "      <td>NaN</td>\n",
       "      <td>IR1</td>\n",
       "      <td>Lvl</td>\n",
       "      <td>AllPub</td>\n",
       "      <td>...</td>\n",
       "      <td>0</td>\n",
       "      <td>NaN</td>\n",
       "      <td>NaN</td>\n",
       "      <td>NaN</td>\n",
       "      <td>0</td>\n",
       "      <td>12</td>\n",
       "      <td>2008</td>\n",
       "      <td>WD</td>\n",
       "      <td>Normal</td>\n",
       "      <td>250000</td>\n",
       "    </tr>\n",
       "    <tr>\n",
       "      <th>5</th>\n",
       "      <td>6</td>\n",
       "      <td>50</td>\n",
       "      <td>RL</td>\n",
       "      <td>85.0</td>\n",
       "      <td>14115</td>\n",
       "      <td>Pave</td>\n",
       "      <td>NaN</td>\n",
       "      <td>IR1</td>\n",
       "      <td>Lvl</td>\n",
       "      <td>AllPub</td>\n",
       "      <td>...</td>\n",
       "      <td>0</td>\n",
       "      <td>NaN</td>\n",
       "      <td>MnPrv</td>\n",
       "      <td>Shed</td>\n",
       "      <td>700</td>\n",
       "      <td>10</td>\n",
       "      <td>2009</td>\n",
       "      <td>WD</td>\n",
       "      <td>Normal</td>\n",
       "      <td>143000</td>\n",
       "    </tr>\n",
       "    <tr>\n",
       "      <th>6</th>\n",
       "      <td>7</td>\n",
       "      <td>20</td>\n",
       "      <td>RL</td>\n",
       "      <td>75.0</td>\n",
       "      <td>10084</td>\n",
       "      <td>Pave</td>\n",
       "      <td>NaN</td>\n",
       "      <td>Reg</td>\n",
       "      <td>Lvl</td>\n",
       "      <td>AllPub</td>\n",
       "      <td>...</td>\n",
       "      <td>0</td>\n",
       "      <td>NaN</td>\n",
       "      <td>NaN</td>\n",
       "      <td>NaN</td>\n",
       "      <td>0</td>\n",
       "      <td>8</td>\n",
       "      <td>2007</td>\n",
       "      <td>WD</td>\n",
       "      <td>Normal</td>\n",
       "      <td>307000</td>\n",
       "    </tr>\n",
       "    <tr>\n",
       "      <th>7</th>\n",
       "      <td>8</td>\n",
       "      <td>60</td>\n",
       "      <td>RL</td>\n",
       "      <td>NaN</td>\n",
       "      <td>10382</td>\n",
       "      <td>Pave</td>\n",
       "      <td>NaN</td>\n",
       "      <td>IR1</td>\n",
       "      <td>Lvl</td>\n",
       "      <td>AllPub</td>\n",
       "      <td>...</td>\n",
       "      <td>0</td>\n",
       "      <td>NaN</td>\n",
       "      <td>NaN</td>\n",
       "      <td>Shed</td>\n",
       "      <td>350</td>\n",
       "      <td>11</td>\n",
       "      <td>2009</td>\n",
       "      <td>WD</td>\n",
       "      <td>Normal</td>\n",
       "      <td>200000</td>\n",
       "    </tr>\n",
       "  </tbody>\n",
       "</table>\n",
       "<p>8 rows × 81 columns</p>\n",
       "</div>"
      ],
      "text/plain": [
       "   Id  MSSubClass MSZoning  LotFrontage  LotArea Street Alley LotShape  \\\n",
       "0   1          60       RL         65.0     8450   Pave   NaN      Reg   \n",
       "1   2          20       RL         80.0     9600   Pave   NaN      Reg   \n",
       "2   3          60       RL         68.0    11250   Pave   NaN      IR1   \n",
       "3   4          70       RL         60.0     9550   Pave   NaN      IR1   \n",
       "4   5          60       RL         84.0    14260   Pave   NaN      IR1   \n",
       "5   6          50       RL         85.0    14115   Pave   NaN      IR1   \n",
       "6   7          20       RL         75.0    10084   Pave   NaN      Reg   \n",
       "7   8          60       RL          NaN    10382   Pave   NaN      IR1   \n",
       "\n",
       "  LandContour Utilities  ... PoolArea PoolQC  Fence MiscFeature MiscVal  \\\n",
       "0         Lvl    AllPub  ...        0    NaN    NaN         NaN       0   \n",
       "1         Lvl    AllPub  ...        0    NaN    NaN         NaN       0   \n",
       "2         Lvl    AllPub  ...        0    NaN    NaN         NaN       0   \n",
       "3         Lvl    AllPub  ...        0    NaN    NaN         NaN       0   \n",
       "4         Lvl    AllPub  ...        0    NaN    NaN         NaN       0   \n",
       "5         Lvl    AllPub  ...        0    NaN  MnPrv        Shed     700   \n",
       "6         Lvl    AllPub  ...        0    NaN    NaN         NaN       0   \n",
       "7         Lvl    AllPub  ...        0    NaN    NaN        Shed     350   \n",
       "\n",
       "  MoSold YrSold  SaleType  SaleCondition  SalePrice  \n",
       "0      2   2008        WD         Normal     208500  \n",
       "1      5   2007        WD         Normal     181500  \n",
       "2      9   2008        WD         Normal     223500  \n",
       "3      2   2006        WD        Abnorml     140000  \n",
       "4     12   2008        WD         Normal     250000  \n",
       "5     10   2009        WD         Normal     143000  \n",
       "6      8   2007        WD         Normal     307000  \n",
       "7     11   2009        WD         Normal     200000  \n",
       "\n",
       "[8 rows x 81 columns]"
      ]
     },
     "execution_count": 288,
     "metadata": {},
     "output_type": "execute_result"
    }
   ],
   "source": [
    "# Load train and test data.\n",
    "test_data_raw = pd.read_csv('./data/test.csv', sep=',')\n",
    "train_data_raw = pd.read_csv('./data/train.csv', sep=',')\n",
    "\n",
    "# Take a quick look into the data.\n",
    "train_data_raw.head(8)"
   ]
  },
  {
   "cell_type": "code",
   "execution_count": 289,
   "metadata": {},
   "outputs": [
    {
     "data": {
      "text/html": [
       "<div>\n",
       "<style scoped>\n",
       "    .dataframe tbody tr th:only-of-type {\n",
       "        vertical-align: middle;\n",
       "    }\n",
       "\n",
       "    .dataframe tbody tr th {\n",
       "        vertical-align: top;\n",
       "    }\n",
       "\n",
       "    .dataframe thead th {\n",
       "        text-align: right;\n",
       "    }\n",
       "</style>\n",
       "<table border=\"1\" class=\"dataframe\">\n",
       "  <thead>\n",
       "    <tr style=\"text-align: right;\">\n",
       "      <th></th>\n",
       "      <th>MSSubClass</th>\n",
       "      <th>MSZoning</th>\n",
       "      <th>LotFrontage</th>\n",
       "      <th>LotArea</th>\n",
       "      <th>Street</th>\n",
       "      <th>Alley</th>\n",
       "      <th>LotShape</th>\n",
       "      <th>LandContour</th>\n",
       "      <th>Utilities</th>\n",
       "      <th>LotConfig</th>\n",
       "      <th>...</th>\n",
       "      <th>Fence</th>\n",
       "      <th>MiscFeature</th>\n",
       "      <th>MiscVal</th>\n",
       "      <th>MoSold</th>\n",
       "      <th>YrSold</th>\n",
       "      <th>SaleType</th>\n",
       "      <th>SaleCondition</th>\n",
       "      <th>SalePrice</th>\n",
       "      <th>Condition</th>\n",
       "      <th>BsmtFinType</th>\n",
       "    </tr>\n",
       "  </thead>\n",
       "  <tbody>\n",
       "    <tr>\n",
       "      <th>0</th>\n",
       "      <td>60</td>\n",
       "      <td>6</td>\n",
       "      <td>65.0</td>\n",
       "      <td>8450</td>\n",
       "      <td>2</td>\n",
       "      <td>0.0</td>\n",
       "      <td>4</td>\n",
       "      <td>0</td>\n",
       "      <td>4</td>\n",
       "      <td>0</td>\n",
       "      <td>...</td>\n",
       "      <td>0.0</td>\n",
       "      <td>0</td>\n",
       "      <td>0</td>\n",
       "      <td>2</td>\n",
       "      <td>2008</td>\n",
       "      <td>WD</td>\n",
       "      <td>Normal</td>\n",
       "      <td>208500</td>\n",
       "      <td>10</td>\n",
       "      <td>7.0</td>\n",
       "    </tr>\n",
       "    <tr>\n",
       "      <th>1</th>\n",
       "      <td>20</td>\n",
       "      <td>6</td>\n",
       "      <td>80.0</td>\n",
       "      <td>9600</td>\n",
       "      <td>2</td>\n",
       "      <td>0.0</td>\n",
       "      <td>4</td>\n",
       "      <td>0</td>\n",
       "      <td>4</td>\n",
       "      <td>3</td>\n",
       "      <td>...</td>\n",
       "      <td>0.0</td>\n",
       "      <td>0</td>\n",
       "      <td>0</td>\n",
       "      <td>5</td>\n",
       "      <td>2007</td>\n",
       "      <td>WD</td>\n",
       "      <td>Normal</td>\n",
       "      <td>181500</td>\n",
       "      <td>9</td>\n",
       "      <td>6.0</td>\n",
       "    </tr>\n",
       "    <tr>\n",
       "      <th>2</th>\n",
       "      <td>60</td>\n",
       "      <td>6</td>\n",
       "      <td>68.0</td>\n",
       "      <td>11250</td>\n",
       "      <td>2</td>\n",
       "      <td>0.0</td>\n",
       "      <td>3</td>\n",
       "      <td>0</td>\n",
       "      <td>4</td>\n",
       "      <td>0</td>\n",
       "      <td>...</td>\n",
       "      <td>0.0</td>\n",
       "      <td>0</td>\n",
       "      <td>0</td>\n",
       "      <td>9</td>\n",
       "      <td>2008</td>\n",
       "      <td>WD</td>\n",
       "      <td>Normal</td>\n",
       "      <td>223500</td>\n",
       "      <td>10</td>\n",
       "      <td>7.0</td>\n",
       "    </tr>\n",
       "    <tr>\n",
       "      <th>3</th>\n",
       "      <td>70</td>\n",
       "      <td>6</td>\n",
       "      <td>60.0</td>\n",
       "      <td>9550</td>\n",
       "      <td>2</td>\n",
       "      <td>0.0</td>\n",
       "      <td>3</td>\n",
       "      <td>0</td>\n",
       "      <td>4</td>\n",
       "      <td>1</td>\n",
       "      <td>...</td>\n",
       "      <td>0.0</td>\n",
       "      <td>0</td>\n",
       "      <td>0</td>\n",
       "      <td>2</td>\n",
       "      <td>2006</td>\n",
       "      <td>WD</td>\n",
       "      <td>Abnorml</td>\n",
       "      <td>140000</td>\n",
       "      <td>10</td>\n",
       "      <td>6.0</td>\n",
       "    </tr>\n",
       "    <tr>\n",
       "      <th>4</th>\n",
       "      <td>60</td>\n",
       "      <td>6</td>\n",
       "      <td>84.0</td>\n",
       "      <td>14260</td>\n",
       "      <td>2</td>\n",
       "      <td>0.0</td>\n",
       "      <td>3</td>\n",
       "      <td>0</td>\n",
       "      <td>4</td>\n",
       "      <td>3</td>\n",
       "      <td>...</td>\n",
       "      <td>0.0</td>\n",
       "      <td>0</td>\n",
       "      <td>0</td>\n",
       "      <td>12</td>\n",
       "      <td>2008</td>\n",
       "      <td>WD</td>\n",
       "      <td>Normal</td>\n",
       "      <td>250000</td>\n",
       "      <td>10</td>\n",
       "      <td>7.0</td>\n",
       "    </tr>\n",
       "  </tbody>\n",
       "</table>\n",
       "<p>5 rows × 78 columns</p>\n",
       "</div>"
      ],
      "text/plain": [
       "   MSSubClass  MSZoning  LotFrontage  LotArea  Street  Alley  LotShape  \\\n",
       "0          60         6         65.0     8450       2    0.0         4   \n",
       "1          20         6         80.0     9600       2    0.0         4   \n",
       "2          60         6         68.0    11250       2    0.0         3   \n",
       "3          70         6         60.0     9550       2    0.0         3   \n",
       "4          60         6         84.0    14260       2    0.0         3   \n",
       "\n",
       "   LandContour  Utilities  LotConfig  ...  Fence MiscFeature  MiscVal  MoSold  \\\n",
       "0            0          4          0  ...    0.0           0        0       2   \n",
       "1            0          4          3  ...    0.0           0        0       5   \n",
       "2            0          4          0  ...    0.0           0        0       9   \n",
       "3            0          4          1  ...    0.0           0        0       2   \n",
       "4            0          4          3  ...    0.0           0        0      12   \n",
       "\n",
       "   YrSold  SaleType  SaleCondition  SalePrice Condition BsmtFinType  \n",
       "0    2008        WD         Normal     208500        10         7.0  \n",
       "1    2007        WD         Normal     181500         9         6.0  \n",
       "2    2008        WD         Normal     223500        10         7.0  \n",
       "3    2006        WD        Abnorml     140000        10         6.0  \n",
       "4    2008        WD         Normal     250000        10         7.0  \n",
       "\n",
       "[5 rows x 78 columns]"
      ]
     },
     "execution_count": 289,
     "metadata": {},
     "output_type": "execute_result"
    }
   ],
   "source": [
    "# Columns that can't be used in the prediction.\n",
    "USELESS_COLUMNS = ['Id']\n",
    "\n",
    "# Categorical columns that can't be (directly) converted to numeric values.\n",
    "CATEGORICAL_COLUMNS = [\n",
    "    'MSSubClass', 'MiscFeature', 'MoSold', 'RoofStyle', 'RoofMatl', 'Exterior1st', 'Exterior2nd', \n",
    "    'MasVnrType', 'Heating', 'Electrical', 'GarageType', 'SaleType', 'SaleCondition', 'Neighborhood'\n",
    "]\n",
    "\n",
    "# Table for convert categorical columns that represent score-like values to numbers.\n",
    "SCORES_TO_NUMBERS = {\n",
    "    \"Alley\": {\"Grvl\": 1, \"Pave\": 2},\n",
    "    \"Street\": {\"Grvl\": 1, \"Pave\": 2},\n",
    "    \n",
    "    \"BsmtCond\": {\"Ex\": 6, \"Gd\": 5, \"TA\": 4, \"Fa\": 3, \"Po\": 2, \"No\": 1},\n",
    "    \"BsmtQual\": {\"Ex\": 6, \"Gd\": 5, \"TA\": 4, \"Fa\": 3, \"Po\": 2, \"No\": 1},\n",
    "    \"ExterCond\": {\"Ex\": 6, \"Gd\": 5, \"TA\": 4, \"Fa\": 3, \"Po\": 2, \"No\": 1},\n",
    "    \"ExterQual\": {\"Ex\": 6, \"Gd\": 5, \"TA\": 4, \"Fa\": 3, \"Po\": 2, \"No\": 1},\n",
    "    \"FireplaceQu\": {\"Ex\": 6, \"Gd\": 5, \"TA\": 4, \"Fa\": 3, \"Po\": 2, \"No\": 1},\n",
    "    \"GarageCond\": {\"Ex\": 6, \"Gd\": 5, \"TA\": 4, \"Fa\": 3, \"Po\": 2, \"No\": 1},\n",
    "    \"GarageQual\": {\"Ex\": 6, \"Gd\": 5, \"TA\": 4, \"Fa\": 3, \"Po\": 2, \"No\": 1},\n",
    "    \"HeatingQC\": {\"Ex\": 6, \"Gd\": 5, \"TA\": 4, \"Fa\": 3, \"Po\": 2, \"No\": 1},\n",
    "    \"KitchenQual\": {\"Ex\": 6, \"Gd\": 5, \"TA\": 4, \"Fa\": 3, \"Po\": 2, \"No\": 1},\n",
    "    \"PoolQC\": {\"Ex\": 6, \"Gd\": 5, \"TA\": 4, \"Fa\": 3, \"Po\": 2, \"No\": 1},\n",
    "\n",
    "    \"BsmtExposure\": {\"Gd\": 4, \"Av\": 3, \"Mn\": 2, \"No\": 1},\n",
    "\n",
    "    \"BsmtFinType1\": {\"GLQ\": 6, \"ALQ\": 5, \"BLQ\": 4, \"Rec\": 3, \"LwQ\": 2, \"Unf\": 1},\n",
    "    \"BsmtFinType2\": {\"GLQ\": 6, \"ALQ\": 5, \"BLQ\": 4, \"Rec\": 3, \"LwQ\": 2, \"Unf\": 1},\n",
    "    \n",
    "    \"Condition1\": {\"PosA\": 7, \"PosN\": 6, \"Norm\": 5, \"Feedr\": 4, \"Artery\": 3, \"RRNn\": 2, \"RRNe\": 2, \"RRAn\": 1, \"RRAe\": 1},\n",
    "    \"Condition2\": {\"PosA\": 7, \"PosN\": 6, \"Norm\": 5, \"Feedr\": 4, \"Artery\": 3, \"RRNn\": 2, \"RRNe\": 2, \"RRAn\": 1, \"RRAe\": 1},\n",
    "\n",
    "    \"BldgType\": {\"1Fam\": 1, \"2FmCon\": 2, \"2fmCon\": 2, \"Duplx\": 3, \"Duplex\": 3, \"Twnhs\": 4.5, \"TwnhsI\": 4, \"TwnhsE\": 5},\n",
    "    \"CentralAir\": {\"N\": 0, \"Y\": 1},\n",
    "    \"Fence\": { \"MnWw\": 1, \"GdWo\": 2, \"MnPrv\": 3, \"GdPrv\": 4},\n",
    "    \"Foundation\": {\"BrkTil\": 0, \"CBlock\": 1, \"PConc\": 2, \"Slab\": 3, \"Stone\": 4, \"Wood\": 5},\n",
    "    \"Functional\": {\"Typ\": 7, \"Min1\": 6, \"Min2\": 5, \"Mod\": 4, \"Maj1\": 3, \"Maj2\": 2, \"Sev\": 1, \"Sal\": 0},\n",
    "    \"GarageFinish\": {\"Fin\": 3, \"RFn\": 2, \"Unf\": 1},\n",
    "    \"HouseStyle\": {\"SFoyer\": 0, \"SLvl\": 1, \"1Story\": 2, \"1.5Unf\": 3, \"1.5Fin\": 4, \"2Story\": 5, \"2.5Unf\": 6, \"2.5Fin\": 7},\n",
    "    \"LandContour\": {\"Lvl\": 0, \"Bnk\": 1, \"HLS\": 2, \"Low\": -1},\n",
    "    \"LandSlope\": {\"Gtl\": 1, \"Mod\": 0, \"Sev\": -1},\n",
    "    \"LotConfig\": {\"Inside\": 0, \"Corner\": 1, \"CulDSac\": 2, \"FR2\": 3, \"FR3\": 4},\n",
    "    \"LotShape\": {\"Reg\": 4, \"IR1\": 3, \"IR2\": 2, \"IR3\": 1},\n",
    "    \"MSZoning\": {\"I\": 0, \"A\": 1, \"C\": 2, \"C (all)\": 2, \"FV\": 3, \"RH\": 4, \"RM\": 5, \"RL\": 6, \"RP\": 7},\n",
    "    \"PavedDrive\": {\"N\": 0, \"P\": 1, \"Y\": 2},\n",
    "    \"Utilities\": {\"AllPub\": 4, \"NoSewr\": 3, \"NoSeWa\": 2, \"ELO\": 1},\n",
    "} \n",
    "\n",
    "def sanitize_data(data):\n",
    "    # Remove bogus columns.\n",
    "    data = data.drop(USELESS_COLUMNS, axis=1)\n",
    "\n",
    "    # Convert some categorical columns (which represent scores) into numeric ones.\n",
    "    data.replace(SCORES_TO_NUMBERS, inplace=True)\n",
    "\n",
    "    # Combine columns with two values.\n",
    "    data['Condition'] = data['Condition1'] + data['Condition2'];\n",
    "    data = data.drop(['Condition1', 'Condition2'], axis=1)\n",
    "    data['BsmtFinType'] = data['BsmtFinType1'] + data['BsmtFinType2'];\n",
    "    data = data.drop(['BsmtFinType1', 'BsmtFinType2'], axis=1)\n",
    "\n",
    "    # Fill missing data.\n",
    "    data = data.fillna(0)\n",
    "    \n",
    "    return data\n",
    "\n",
    "train_data = sanitize_data(train_data_raw)\n",
    "train_data.head()"
   ]
  },
  {
   "cell_type": "markdown",
   "metadata": {},
   "source": [
    "## 2. Explore data"
   ]
  },
  {
   "cell_type": "markdown",
   "metadata": {},
   "source": [
    "### 2.1 Numerical columns"
   ]
  },
  {
   "cell_type": "code",
   "execution_count": 290,
   "metadata": {},
   "outputs": [],
   "source": [
    "# Calculate correlations of numerical columns with 'SalePrice'.\n",
    "num_corrs = train_data.corr(method ='pearson')['SalePrice']\n",
    "num_corrs = num_corrs.sort_values()"
   ]
  },
  {
   "cell_type": "code",
   "execution_count": 291,
   "metadata": {},
   "outputs": [
    {
     "data": {
      "image/png": "[encoded data removed]",
      "text/plain": [
       "<Figure size 1440x72 with 2 Axes>"
      ]
     },
     "metadata": {
      "needs_background": "light"
     },
     "output_type": "display_data"
    }
   ],
   "source": [
    "# Draw heatmap for columns with high correlation.\n",
    "plt.figure(figsize=(20,1))\n",
    "sns.heatmap(num_corrs[num_corrs >= 0.4].to_frame().T, annot=True, fmt='.2f')\n",
    "plt.show()"
   ]
  },
  {
   "cell_type": "code",
   "execution_count": 292,
   "metadata": {},
   "outputs": [
    {
     "data": {
      "image/png": "[encoded data removed]",
      "text/plain": [
       "<Figure size 1440x72 with 2 Axes>"
      ]
     },
     "metadata": {
      "needs_background": "light"
     },
     "output_type": "display_data"
    }
   ],
   "source": [
    "# Draw heatmap for columns with low correlation.\n",
    "plt.figure(figsize=(20,1))\n",
    "sns.heatmap(num_corrs[(num_corrs >= 0) & (num_corrs < 0.4)].to_frame().T, annot=True, fmt='.2f')\n",
    "plt.show()"
   ]
  },
  {
   "cell_type": "code",
   "execution_count": 293,
   "metadata": {},
   "outputs": [
    {
     "data": {
      "image/png": "[encoded data removed]",
      "text/plain": [
       "<Figure size 1440x72 with 2 Axes>"
      ]
     },
     "metadata": {
      "needs_background": "light"
     },
     "output_type": "display_data"
    }
   ],
   "source": [
    "# Draw heatmap for columns with negative correlation.\n",
    "plt.figure(figsize=(20,1))\n",
    "sns.heatmap(num_corrs[num_corrs < 0].to_frame().T, annot=True, fmt='.2f')\n",
    "plt.show()"
   ]
  },
  {
   "cell_type": "markdown",
   "metadata": {},
   "source": [
    "### 3.2 Categorical columns"
   ]
  },
  {
   "cell_type": "code",
   "execution_count": 294,
   "metadata": {},
   "outputs": [
    {
     "data": {
      "image/png": "[encoded data removed]",
      "text/plain": [
       "<Figure size 1440x72 with 2 Axes>"
      ]
     },
     "metadata": {
      "needs_background": "light"
     },
     "output_type": "display_data"
    }
   ],
   "source": [
    "def cramers_v(confusion_matrix):\n",
    "    \"\"\" Calculate Cramers V statistic for categorial-categorial association.\n",
    "        uses correction from Bergsma and Wicher,\n",
    "        Journal of the Korean Statistical Society 42 (2013): 323-328\n",
    "    \"\"\"\n",
    "    chi2 = ss.chi2_contingency(confusion_matrix)[0]\n",
    "    n = confusion_matrix.sum()\n",
    "    phi2 = chi2 / n\n",
    "    r, k = confusion_matrix.shape\n",
    "    phi2corr = max(0, phi2 - ((k-1)*(r-1))/(n-1))\n",
    "    rcorr = r - ((r-1)**2)/(n-1)\n",
    "    kcorr = k - ((k-1)**2)/(n-1)\n",
    "    return np.sqrt(phi2corr / min((kcorr-1), (rcorr-1)))\n",
    "\n",
    "# Calculate correlations of columns with 'SalePrice'.\n",
    "cat_corrs_index = CATEGORICAL_COLUMNS\n",
    "cat_corrs = pd.Series([0.0] * len(cat_corrs_index), index=cat_corrs_index)\n",
    "for column in cat_corrs.index:\n",
    "    confusion_matrix = pd.crosstab(train_data[column], train_data['SalePrice']).values\n",
    "    cat_corrs[column] = cramers_v(confusion_matrix)\n",
    "\n",
    "# Draw heatmap.\n",
    "plt.figure(figsize=(20,1))\n",
    "sns.heatmap(cat_corrs.to_frame().T, annot=True, fmt='.2f')\n",
    "plt.show()"
   ]
  },
  {
   "cell_type": "code",
   "execution_count": 295,
   "metadata": {},
   "outputs": [
    {
     "data": {
      "image/png": "[encoded data removed]",
      "text/plain": [
       "<Figure size 432x288 with 1 Axes>"
      ]
     },
     "metadata": {
      "needs_background": "light"
     },
     "output_type": "display_data"
    },
    {
     "data": {
      "image/png": "[encoded data removed]",
      "text/plain": [
       "<Figure size 432x288 with 1 Axes>"
      ]
     },
     "metadata": {
      "needs_background": "light"
     },
     "output_type": "display_data"
    },
    {
     "data": {
      "image/png": "[encoded data removed]",
      "text/plain": [
       "<Figure size 432x288 with 1 Axes>"
      ]
     },
     "metadata": {
      "needs_background": "light"
     },
     "output_type": "display_data"
    }
   ],
   "source": [
    "# Draw bar chars for each column whose correlation is superior to 0.3.\n",
    "for column in CATEGORICAL_COLUMNS:\n",
    "    if cat_corrs[column] > 0.29:\n",
    "        # Calculate mean price for each column.\n",
    "        column_stats = train_data[[column, 'SalePrice']].groupby(column).agg({'SalePrice': ['count', 'sum']})\n",
    "        column_stats['mean'] = column_stats['SalePrice']['sum'] / column_stats['SalePrice']['count']\n",
    "\n",
    "        # Draw bar chart.\n",
    "        plt.figure(figsize=(6,4))\n",
    "        plt.title(\"Mean price by \" + column)\n",
    "        sns.barplot(x=column_stats.index, y=column_stats['mean'])"
   ]
  },
  {
   "cell_type": "markdown",
   "metadata": {},
   "source": [
    "## 3. Build models"
   ]
  },
  {
   "cell_type": "code",
   "execution_count": 296,
   "metadata": {},
   "outputs": [],
   "source": [
    "def print_pred_errors(y_pred, y_test):\n",
    "    MSE = np.mean((y_pred - y_test) ** 2)\n",
    "    RMSE = np.sqrt(MSE)\n",
    "    price_mean = np.mean(y_test)\n",
    "    \n",
    "    print(\"- Mean squared error: %.0f\" % MSE)\n",
    "    print(\"- Root mean squared error: %.0f\" % RMSE)\n",
    "    print(\"- Coefficient of variation: %.4f\" % (RMSE / price_mean))\n",
    "    \n",
    "def train_and_check_errors(X_train, X_test, y_train, y_test):\n",
    "    # Create and train classifiers.\n",
    "    linear_regression = LinearRegression()\n",
    "    ridge_regression = RidgeCV()\n",
    "    linear_regression.fit(X_train, y_train)\n",
    "    ridge_regression.fit(X_train, y_train)\n",
    "\n",
    "    # Make predictions.\n",
    "    y_pred_linear = linear_regression.predict(X_test)\n",
    "    y_pred_ridge = ridge_regression.predict(X_test)\n",
    "\n",
    "    # Check the accuracy of the predictions.\n",
    "    print('Linear variance score: %.4f' % linear_regression.score(X_test, y_test))\n",
    "    print_pred_errors(y_pred_linear, y_test)\n",
    "    print('\\n')\n",
    "    print('Ridge variance score: %.4f' % ridge_regression.score(X_test, y_test))\n",
    "    print_pred_errors(y_pred_ridge, y_test)"
   ]
  },
  {
   "cell_type": "markdown",
   "metadata": {},
   "source": [
    "### 3.1 Regression with numerical columns"
   ]
  },
  {
   "cell_type": "code",
   "execution_count": 297,
   "metadata": {},
   "outputs": [
    {
     "name": "stdout",
     "output_type": "stream",
     "text": [
      "Linear variance score: 0.6806\n",
      "- Mean squared error: 1936073512\n",
      "- Root mean squared error: 44001\n",
      "- Coefficient of variation: 0.2446\n",
      "\n",
      "\n",
      "Ridge variance score: 0.6948\n",
      "- Mean squared error: 1850224305\n",
      "- Root mean squared error: 43014\n",
      "- Coefficient of variation: 0.2391\n"
     ]
    }
   ],
   "source": [
    "# Separate output from input (using all numerical columns).\n",
    "X = train_data.drop(CATEGORICAL_COLUMNS, axis=1).drop('SalePrice', axis=1)\n",
    "y = train_data['SalePrice'].copy()\n",
    "\n",
    "# Separate data into training and testing subsets.\n",
    "X_train, X_test, y_train, y_test = train_test_split(X, y, test_size=0.33, random_state=22)\n",
    "train_and_check_errors(X_train, X_test, y_train, y_test)"
   ]
  },
  {
   "cell_type": "markdown",
   "metadata": {},
   "source": [
    "### 3.2 Regression with highly correlated numerical columns"
   ]
  },
  {
   "cell_type": "code",
   "execution_count": 298,
   "metadata": {},
   "outputs": [
    {
     "name": "stdout",
     "output_type": "stream",
     "text": [
      "Linear variance score: 0.7172\n",
      "- Mean squared error: 1714582236\n",
      "- Root mean squared error: 41408\n",
      "- Coefficient of variation: 0.2302\n",
      "\n",
      "\n",
      "Ridge variance score: 0.7177\n",
      "- Mean squared error: 1711502534\n",
      "- Root mean squared error: 41370\n",
      "- Coefficient of variation: 0.2300\n"
     ]
    }
   ],
   "source": [
    "# Separate output from input (using only numerical columns with higher correlation).\n",
    "X = train_data.drop(CATEGORICAL_COLUMNS, axis=1)\n",
    "X = X[num_corrs[num_corrs >= 0.3].index].drop('SalePrice', axis=1)\n",
    "y = train_data['SalePrice'].copy()\n",
    "\n",
    "# Separate data into training and testing subsets.\n",
    "X_train, X_test, y_train, y_test = train_test_split(X, y, test_size=0.33, random_state=22)\n",
    "train_and_check_errors(X_train, X_test, y_train, y_test)"
   ]
  },
  {
   "cell_type": "markdown",
   "metadata": {},
   "source": [
    "### 3.3 Regression with numerical and categorical columns"
   ]
  },
  {
   "cell_type": "code",
   "execution_count": 299,
   "metadata": {},
   "outputs": [
    {
     "name": "stdout",
     "output_type": "stream",
     "text": [
      "Linear variance score: 0.8504\n",
      "- Mean squared error: 897529761\n",
      "- Root mean squared error: 29959\n",
      "- Coefficient of variation: 0.1646\n",
      "\n",
      "\n",
      "Ridge variance score: 0.8561\n",
      "- Mean squared error: 863209553\n",
      "- Root mean squared error: 29380\n",
      "- Coefficient of variation: 0.1614\n"
     ]
    }
   ],
   "source": [
    "# Separate output from input (using numerical columns and categorical columns with a high correlation).\n",
    "X = train_data.drop('SalePrice', axis=1)        \n",
    "y = train_data['SalePrice'].copy()\n",
    "\n",
    "# Convert categorical columns to numbers.\n",
    "X = pd.get_dummies(X)\n",
    "\n",
    "# Separate data into training and testing subsets.\n",
    "X_train, X_test, y_train, y_test = train_test_split(X, y, test_size=0.33, random_state=23)\n",
    "train_and_check_errors(X_train, X_test, y_train, y_test)"
   ]
  },
  {
   "cell_type": "markdown",
   "metadata": {},
   "source": [
    "### 3.4 Regression with numerical and highly correlated categorical columns"
   ]
  },
  {
   "cell_type": "code",
   "execution_count": 300,
   "metadata": {},
   "outputs": [
    {
     "name": "stdout",
     "output_type": "stream",
     "text": [
      "Linear variance score: 0.8482\n",
      "- Mean squared error: 910894206\n",
      "- Root mean squared error: 30181\n",
      "- Coefficient of variation: 0.1658\n",
      "\n",
      "\n",
      "Ridge variance score: 0.8633\n",
      "- Mean squared error: 820200447\n",
      "- Root mean squared error: 28639\n",
      "- Coefficient of variation: 0.1573\n"
     ]
    }
   ],
   "source": [
    "# Separate output from input (using numerical columns and categorical columns with a high correlation).\n",
    "X = train_data.drop('SalePrice', axis=1)\n",
    "for column in CATEGORICAL_COLUMNS:\n",
    "    if cat_corrs[column] > 0.29:\n",
    "        X = X.drop(column, axis=1)        \n",
    "y = train_data['SalePrice'].copy()\n",
    "\n",
    "# Convert categorical columns to numbers.\n",
    "X = pd.get_dummies(X)\n",
    "\n",
    "# Separate data into training and testing subsets.\n",
    "X_train, X_test, y_train, y_test = train_test_split(X, y, test_size=0.33, random_state=23)\n",
    "train_and_check_errors(X_train, X_test, y_train, y_test)"
   ]
  },
  {
   "cell_type": "markdown",
   "metadata": {},
   "source": [
    "## 4. Make predictions"
   ]
  },
  {
   "cell_type": "code",
   "execution_count": 301,
   "metadata": {},
   "outputs": [
    {
     "name": "stdout",
     "output_type": "stream",
     "text": [
      "The submission was successfully saved!\n"
     ]
    }
   ],
   "source": [
    "# Initialize train and test data.\n",
    "X_train = train_data.drop('SalePrice', axis=1)\n",
    "for column in CATEGORICAL_COLUMNS:\n",
    "    if cat_corrs[column] > 0.29:\n",
    "        X_train = X_train.drop(column, axis=1)  \n",
    "X_train = pd.get_dummies(X_train)\n",
    "y_train = train_data['SalePrice'].copy()\n",
    "\n",
    "test_data = sanitize_data(test_data_raw)\n",
    "for column in CATEGORICAL_COLUMNS:\n",
    "    if cat_corrs[column] > 0.29:\n",
    "        test_data = test_data.drop(column, axis=1)  \n",
    "test_data = pd.get_dummies(test_data)\n",
    "\n",
    "# Remove extra columns (get_dummies might produce columns not available on the other dataframe)\n",
    "for column in X_train:\n",
    "    if column not in test_data:\n",
    "        X_train = X_train.drop(column, axis=1)  \n",
    "for column in test_data:\n",
    "    if column not in X_train:\n",
    "        test_data = test_data.drop(column, axis=1)  \n",
    "\n",
    "# Make the predictions.\n",
    "linear_regression = LinearRegression()\n",
    "linear_regression.fit(X_train, y_train)\n",
    "\n",
    "test_predictions = linear_regression.predict(test_data)\n",
    "\n",
    "# Generate the submission file (to be uploaded to Kaggle).\n",
    "output = pd.DataFrame({'Id': test_data_raw.Id, 'SalePrice': test_predictions})\n",
    "output.to_csv('my_submission.csv', index=False)\n",
    "print(\"The submission was successfully saved!\")"
   ]
  },
  {
   "cell_type": "code",
   "execution_count": null,
   "metadata": {},
   "outputs": [],
   "source": []
  }
 ],
 "metadata": {
  "kernelspec": {
   "display_name": "Python 3",
   "language": "python",
   "name": "python3"
  },
  "language_info": {
   "codemirror_mode": {
    "name": "ipython",
    "version": 3
   },
   "file_extension": ".py",
   "mimetype": "text/x-python",
   "name": "python",
   "nbconvert_exporter": "python",
   "pygments_lexer": "ipython3",
   "version": "3.8.3"
  }
 },
 "nbformat": 4,
 "nbformat_minor": 4
}
